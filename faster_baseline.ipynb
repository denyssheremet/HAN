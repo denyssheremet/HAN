{
 "cells": [
  {
   "cell_type": "code",
   "execution_count": 1,
   "id": "d9876865-2ecb-4e11-a91e-06db147145ba",
   "metadata": {},
   "outputs": [],
   "source": [
    "import torch\n",
    "from datasets import load_dataset\n",
    "from transformers import AutoTokenizer\n",
    "from my_utils import save_to_pickle, load_from_pickle\n",
    "import string\n",
    "from tqdm import tqdm\n",
    "from collections import OrderedDict\n",
    "import torchtext\n",
    "import torch.nn as nn\n",
    "import torch.nn.functional as F\n",
    "from torch.utils.data import DataLoader\n",
    "from preprocessing import MyTokenizer, split_dataset, calc_token_counts, create_vocab, preprocess_datasets"
   ]
  },
  {
   "cell_type": "code",
   "execution_count": 2,
   "id": "bd2b6f8e-e2cc-4e1b-be3c-813cf68e0801",
   "metadata": {},
   "outputs": [
    {
     "name": "stderr",
     "output_type": "stream",
     "text": [
      "Using custom data configuration default-7e666937cb3173ed\n",
      "Reusing dataset json (/root/.cache/huggingface/datasets/json/default-7e666937cb3173ed/0.0.0/a3e658c4731e59120d44081ac10bf85dc7e1388126b92338344ce9661907f253)\n"
     ]
    },
    {
     "data": {
      "application/vnd.jupyter.widget-view+json": {
       "model_id": "3d2fd6ef22b249fba882f4c2840f894b",
       "version_major": 2,
       "version_minor": 0
      },
      "text/plain": [
       "  0%|          | 0/1 [00:00<?, ?it/s]"
      ]
     },
     "metadata": {},
     "output_type": "display_data"
    },
    {
     "name": "stderr",
     "output_type": "stream",
     "text": [
      "Loading cached split indices for dataset at /root/.cache/huggingface/datasets/json/default-7e666937cb3173ed/0.0.0/a3e658c4731e59120d44081ac10bf85dc7e1388126b92338344ce9661907f253/cache-59ae6efa5965faf8.arrow and /root/.cache/huggingface/datasets/json/default-7e666937cb3173ed/0.0.0/a3e658c4731e59120d44081ac10bf85dc7e1388126b92338344ce9661907f253/cache-fe1a9426873952f1.arrow\n",
      "Loading cached split indices for dataset at /root/.cache/huggingface/datasets/json/default-7e666937cb3173ed/0.0.0/a3e658c4731e59120d44081ac10bf85dc7e1388126b92338344ce9661907f253/cache-a046d35d60a6f579.arrow and /root/.cache/huggingface/datasets/json/default-7e666937cb3173ed/0.0.0/a3e658c4731e59120d44081ac10bf85dc7e1388126b92338344ce9661907f253/cache-c10877e55fe6ed82.arrow\n"
     ]
    }
   ],
   "source": [
    "dataset = load_dataset(\"json\", data_files=\"data/News_Category_Dataset_v3.json\", split=[\"train\"])[0]\n",
    "ds_train, ds_val, ds_test = split_dataset(dataset)\n",
    "categories = set(dataset['category'])\n",
    "category_map = dict(zip(categories, range(len(categories))))"
   ]
  },
  {
   "cell_type": "code",
   "execution_count": 3,
   "id": "a10b49e2-c63a-416d-8c0c-1a66daccdbba",
   "metadata": {
    "tags": []
   },
   "outputs": [
    {
     "name": "stdout",
     "output_type": "stream",
     "text": [
      "5707\n"
     ]
    },
    {
     "data": {
      "text/plain": [
       "(0, 1547, 963, 0, 0)"
      ]
     },
     "execution_count": 3,
     "metadata": {},
     "output_type": "execute_result"
    }
   ],
   "source": [
    "# create the vocab\n",
    "tokenizer = MyTokenizer()\n",
    "token_counts = calc_token_counts(dataset, tokenizer)\n",
    "vocab = create_vocab(token_counts, 100)\n",
    "print(len(vocab))\n",
    "vocab['<unk>'], vocab['hi'], vocab['dog'], vocab['dawg'], vocab['doggo']"
   ]
  },
  {
   "cell_type": "code",
   "execution_count": 4,
   "id": "25b29bce-2c8e-41d8-9553-2ee44f79a867",
   "metadata": {},
   "outputs": [
    {
     "data": {
      "text/plain": [
       "{'headline': [0, 0, 293, 0, 204, 167, 3501, 0, 3811, 0, 16, 480, 1124],\n",
       " 'category': 9,\n",
       " 'description': [0,\n",
       "  2129,\n",
       "  19,\n",
       "  2130,\n",
       "  2289,\n",
       "  3614,\n",
       "  0,\n",
       "  27,\n",
       "  0,\n",
       "  32,\n",
       "  0,\n",
       "  0,\n",
       "  0,\n",
       "  44,\n",
       "  78,\n",
       "  1838,\n",
       "  346]}"
      ]
     },
     "execution_count": 4,
     "metadata": {},
     "output_type": "execute_result"
    }
   ],
   "source": [
    "ds_train_tok, ds_val_tok, ds_test_tok = preprocess_datasets(\n",
    "    ds_train, \n",
    "    ds_val, \n",
    "    ds_test,\n",
    "    tokenizer, \n",
    "    vocab,\n",
    "    category_map,\n",
    ")\n",
    "ds_train_tok[0]"
   ]
  },
  {
   "cell_type": "code",
   "execution_count": null,
   "id": "f5c09717-7da8-49a3-84ff-2504c9a8a590",
   "metadata": {},
   "outputs": [],
   "source": []
  },
  {
   "cell_type": "code",
   "execution_count": null,
   "id": "bcf5efd1-3643-4df2-b02a-7f26c2f23b3a",
   "metadata": {},
   "outputs": [],
   "source": []
  },
  {
   "cell_type": "code",
   "execution_count": null,
   "id": "991e24a5-8783-4353-923c-77aa1a7c6cf3",
   "metadata": {},
   "outputs": [],
   "source": []
  }
 ],
 "metadata": {
  "kernelspec": {
   "display_name": "Python 3 (ipykernel)",
   "language": "python",
   "name": "python3"
  },
  "language_info": {
   "codemirror_mode": {
    "name": "ipython",
    "version": 3
   },
   "file_extension": ".py",
   "mimetype": "text/x-python",
   "name": "python",
   "nbconvert_exporter": "python",
   "pygments_lexer": "ipython3",
   "version": "3.9.16"
  }
 },
 "nbformat": 4,
 "nbformat_minor": 5
}
